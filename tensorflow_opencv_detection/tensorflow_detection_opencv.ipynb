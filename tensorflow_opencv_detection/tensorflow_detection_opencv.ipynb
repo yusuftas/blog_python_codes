{
 "cells": [
  {
   "cell_type": "markdown",
   "metadata": {},
   "source": [
    "In this post, I will go over tensorflow OpenCV object detection module. To be honest, I haven't used OpenCV for quite some time. And after recently looking into it, I have realized how awesome OpenCV has become. It <b>now has a dedicated DNN (deep neural network) module</b>. This module also has <b>functionality to load Caffe and Tensorflow trained networks.</b> I am just so happy to see that functionality in OpenCV. Just think about it, you can use your trained networks within OpenCV.\n",
    "\n",
    "Alright, enough blabbering, let's get to the point. So in this post, I will use tensorflow detection module to load a trained tensorflow network and use this network to apply object detection to a webcam stream. So in the end, we will have a display that shows webcam stream and in the stream we modify the frames and display detected objects with rectangles. \n",
    "\n",
    "Alright, first thing is to get camera stream and display it. Later on we will expand this code to apply object detection to each frame instead of just displaying. "
   ]
  },
  {
   "cell_type": "code",
   "execution_count": 1,
   "metadata": {},
   "outputs": [
    {
     "name": "stderr",
     "output_type": "stream",
     "text": [
      "F:\\DEVELOPMENT\\anaconda\\lib\\site-packages\\h5py\\__init__.py:36: FutureWarning: Conversion of the second argument of issubdtype from `float` to `np.floating` is deprecated. In future, it will be treated as `np.float64 == np.dtype(float).type`.\n",
      "  from ._conv import register_converters as _register_converters\n"
     ]
    }
   ],
   "source": [
    "#import sys\n",
    "\n",
    "#print(sys.executable)\n",
    "#print(sys.path)\n",
    "\n",
    "#sys.path.append('/home/yutas/anaconda2/envs/testcaffe/lib/python2.7/site-packages/')\n",
    "\n",
    "import cv2 as cv\n",
    "import tensorflow as tf\n",
    "import numpy as np"
   ]
  },
  {
   "cell_type": "code",
   "execution_count": null,
   "metadata": {},
   "outputs": [],
   "source": [
    "cam = cv.VideoCapture(0)\n",
    "\n",
    "while True:\n",
    "    ret_val, img = cam.read()\n",
    "\n",
    "    cv.imshow('my webcam', img)\n",
    "\n",
    "    if cv.waitKey(1) == 27: \n",
    "        break  # esc to quit\n",
    "\n",
    "cam.release()\n",
    "cv.destroyAllWindows()"
   ]
  },
  {
   "cell_type": "markdown",
   "metadata": {},
   "source": [
    "Now, we got the webcam stream working, next step is to integrate this with object detection. For object detection, I will use one of the networks available in Tensorflow Object detection module website : <a href='https://github.com/opencv/opencv/wiki/TensorFlow-Object-Detection-API'> Tensorflow Object Detection API</a>"
   ]
  },
  {
   "cell_type": "code",
   "execution_count": 2,
   "metadata": {},
   "outputs": [],
   "source": [
    "#classes = ['person','bicycle','car','motorcycle','airplane' ,'bus','train','truck','boat' ,'traffic light','fire hydrant',\n",
    "#           'stop sign','parking meter','bench','bird','cat','dog','horse','sheep','cow','elephant','bear','zebra','giraffe' ,\n",
    "#           'backpack','umbrella','handbag' ,'tie','suitcase','frisbee' ,'skis','snowboard','sports ball' ,'kite',\n",
    "#           'baseball bat','baseball glove','skateboard','surfboard','tennis rack','bottle','wine glass','cup','fork','knife',\n",
    "#           'spoon','bowl','banana','apple' ,'sandwich','orange','broccoli','carrot','hot dog','pizza' ,'donut' ,'cake',\n",
    "#           'chair' ,'couch' ,'potted plant','bed','dining table','toilet','tv','laptop','mouse','remote','keyboard',\n",
    "#           'cell phone','microwave','oven','toaster','sink','refrigerator','book','clock','vase','scissors' ,'teddy bear',\n",
    "#           'hair drier','toothbrush']\n",
    "\n",
    "\n",
    "classes = [\"background\", \"person\", \"bicycle\", \"car\", \"motorcycle\",\n",
    "    \"airplane\", \"bus\", \"train\", \"truck\", \"boat\", \"traffic light\", \"fire hydrant\",\n",
    "    \"unknown\", \"stop sign\", \"parking meter\", \"bench\", \"bird\", \"cat\", \"dog\", \"horse\",\n",
    "    \"sheep\", \"cow\", \"elephant\", \"bear\", \"zebra\", \"giraffe\", \"unknown\", \"backpack\",\n",
    "    \"umbrella\", \"unknown\", \"unknown\", \"handbag\", \"tie\", \"suitcase\", \"frisbee\", \"skis\",\n",
    "    \"snowboard\", \"sports ball\", \"kite\", \"baseball bat\", \"baseball glove\", \"skateboard\",\n",
    "    \"surfboard\", \"tennis racket\", \"bottle\", \"unknown\", \"wine glass\", \"cup\", \"fork\", \"knife\",\n",
    "    \"spoon\", \"bowl\", \"banana\", \"apple\", \"sandwich\", \"orange\", \"broccoli\", \"carrot\", \"hot dog\",\n",
    "    \"pizza\", \"donut\", \"cake\", \"chair\", \"couch\", \"potted plant\", \"bed\", \"unknown\", \"dining table\",\n",
    "    \"unknown\", \"unknown\", \"toilet\", \"unknown\", \"tv\", \"laptop\", \"mouse\", \"remote\", \"keyboard\",\n",
    "    \"cell phone\", \"microwave\", \"oven\", \"toaster\", \"sink\", \"refrigerator\", \"unknown\",\n",
    "\"book\", \"clock\", \"vase\", \"scissors\", \"teddy bear\", \"hair drier\", \"toothbrush\" ]\n",
    "\n",
    "\n",
    "\n",
    "\n",
    "colors = np.random.uniform(0, 255, size=(len(classes), 3))"
   ]
  },
  {
   "cell_type": "code",
   "execution_count": 3,
   "metadata": {},
   "outputs": [],
   "source": [
    "cam = cv.VideoCapture(0)   \n",
    "\n",
    "#pb  = './inceptionv2.pb'\n",
    "#pbt = './inceptionv2.pbtxt'\n",
    "\n",
    "pb  = './mobilenet.pb'\n",
    "pbt = './mobilenet.pbtxt'\n",
    "\n",
    "\n",
    "cvNet = cv.dnn.readNetFromTensorflow(pb,pbt)\n",
    "\n",
    "while True:\n",
    "    ret_val, img = cam.read()\n",
    "\n",
    "    rows = img.shape[0]\n",
    "    cols = img.shape[1]\n",
    "    cvNet.setInput(cv.dnn.blobFromImage(img, 1.0/127.5, (300, 300), (127.5, 127.5, 127.5), swapRB=True, crop=False))\n",
    "    cvOut = cvNet.forward()\n",
    "\n",
    "    for detection in cvOut[0,0,:,:]:\n",
    "        score = float(detection[2])\n",
    "        if score > 0.3:\n",
    "            left = detection[3] * cols\n",
    "            top = detection[4] * rows\n",
    "            right = detection[5] * cols\n",
    "            bottom = detection[6] * rows\n",
    "            cv.rectangle(img, (int(left), int(top)), (int(right), int(bottom)), (23, 230, 210), thickness=2)\n",
    "\n",
    "            idx = int(detection[1])\n",
    "            #box = detections[0, 0, i, 3:7] * np.array([w, h, w, h])(startX, startY, endX, endY) = box.astype(\"int\")\n",
    "            \n",
    "            #print('%s, %d',str(detection[0]),idx)\n",
    "            \n",
    "            # draw the prediction on the frame\n",
    "            label = \"{}: {:.2f}%\".format(classes[idx],score * 100)\n",
    "            y = top - 15 if top - 15 > 15 else top + 15\n",
    "            cv.putText(img, label, (int(left), int(y)),cv.FONT_HERSHEY_SIMPLEX, 0.5, colors[idx], 2)\n",
    "            \n",
    "    cv.imshow('my webcam', img)\n",
    "\n",
    "    if cv.waitKey(1) == 27: \n",
    "        break  # esc to quit\n",
    "\n",
    "cam.release()\n",
    "cv.destroyAllWindows()        \n",
    "    "
   ]
  },
  {
   "cell_type": "code",
   "execution_count": null,
   "metadata": {},
   "outputs": [],
   "source": []
  }
 ],
 "metadata": {
  "kernelspec": {
   "display_name": "Python 3",
   "language": "python",
   "name": "python3"
  },
  "language_info": {
   "codemirror_mode": {
    "name": "ipython",
    "version": 3
   },
   "file_extension": ".py",
   "mimetype": "text/x-python",
   "name": "python",
   "nbconvert_exporter": "python",
   "pygments_lexer": "ipython3",
   "version": "3.6.4"
  }
 },
 "nbformat": 4,
 "nbformat_minor": 2
}
