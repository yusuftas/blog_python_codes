{
 "cells": [
  {
   "cell_type": "code",
   "execution_count": 1,
   "metadata": {},
   "outputs": [],
   "source": [
    "import numpy as np\n",
    "import tensorflow as tf\n",
    "import time\n",
    "import matplotlib.pyplot as plt"
   ]
  },
  {
   "cell_type": "code",
   "execution_count": 39,
   "metadata": {},
   "outputs": [
    {
     "data": {
      "text/plain": [
       "Text(0.5,1,'Testing data')"
      ]
     },
     "execution_count": 39,
     "metadata": {},
     "output_type": "execute_result"
    },
    {
     "data": {
      "image/png": "[encoded data removed]",
      "text/plain": [
       "<matplotlib.figure.Figure at 0xe163ac8>"
      ]
     },
     "metadata": {},
     "output_type": "display_data"
    }
   ],
   "source": [
    "datacount = 1000 \n",
    "\n",
    "#linearly spaced 1000 values between 0 and 1\n",
    "trainx = np.linspace(0, 1, 1000)                      #trainx = np.random.rand(datacount)\n",
    "trainy = np.asarray([v**2 for v in trainx])\n",
    "\n",
    "\n",
    "#shuffle the X for a good train-test distribution\n",
    "p = np.random.permutation(datacount)\n",
    "trainx = trainx[p]\n",
    "trainy = trainy[p]\n",
    "\n",
    "    \n",
    "# Divide data by half for testing and training\n",
    "train_X = np.asarray(trainx[0:int(datacount/2)]) \n",
    "train_Y = np.asarray(trainy[0:int(datacount/2)])\n",
    "test_X  = np.asarray(trainx[int(datacount/2):])\n",
    "test_Y  = np.asarray(trainy[int(datacount/2):])\n",
    "\n",
    "#plot the train and test data\n",
    "f, (ax1, ax2) = plt.subplots(1, 2, sharey=True)\n",
    "\n",
    "ax1.scatter(train_X,train_Y)\n",
    "ax1.set_title('Training data')\n",
    "ax2.scatter(test_X,test_Y, color='r')\n",
    "ax2.set_title('Testing data')"
   ]
  },
  {
   "cell_type": "code",
   "execution_count": 49,
   "metadata": {},
   "outputs": [],
   "source": [
    "#lets first create the tensorflow environment we will work in\n",
    "rng = np.random\n",
    "learning_rate = 0.01\n",
    "n_samples = train_X.shape[0]\n",
    "\n",
    "\n",
    "X = tf.placeholder(tf.float32, [None, 1])\n",
    "Y = tf.placeholder(tf.float32, [None, 1])\n",
    "\n",
    "W1 = tf.Variable(rng.randn(1,64)*2, name=\"weight1\",dtype=\"float\")\n",
    "b1 = tf.Variable(rng.randn(64)*2, name=\"bias1\",dtype=\"float\")\n",
    "\n",
    "fc1 = tf.nn.relu(tf.matmul(X, W1) + b1)       #out1 = tf.add(tf.multiply(X, W1), b1)\n",
    "\n",
    "\n",
    "#W2 = tf.Variable(rng.randn(16,32), name=\"weight2\",dtype=\"float\")\n",
    "#b2 = tf.Variable(rng.randn(32), name=\"bias2\",dtype=\"float\")\n",
    "\n",
    "#fc2 = tf.nn.relu(tf.matmul(fc1, W2) + b2)\n",
    "\n",
    "W3 = tf.Variable(rng.randn(64,1)*2, name=\"weight3\",dtype=\"float\")\n",
    "b3 = tf.Variable(rng.randn(1)*2, name=\"bias3\",dtype=\"float\")\n",
    "\n",
    "pred = tf.matmul(fc1, W3) + b3                  #pred = tf.nn.relu(tf.matmul(X, W1) + b1)\n",
    "\n",
    "\n",
    "cost      = tf.reduce_sum(tf.pow(pred-Y, 2))/(2*n_samples)\n",
    "optimizer = tf.train.GradientDescentOptimizer(learning_rate).minimize(cost)"
   ]
  },
  {
   "cell_type": "markdown",
   "metadata": {},
   "source": [
    "Now, after going over my last post, I realized I could add some re-usability to my code. Let's add a training function which we can use later on to try different models and data. By converting this to a function, this will reduce the copy-paste in my code."
   ]
  },
  {
   "cell_type": "code",
   "execution_count": 50,
   "metadata": {},
   "outputs": [],
   "source": [
    "def trainingFunction(sess,optimizer,cost,train_X,train_Y,display_step,training_epochs):\n",
    "    \n",
    "    loss_history = [] \n",
    "    data_count_train = train_X.shape[0] \n",
    "    \n",
    "    # Fit all training data\n",
    "    for epoch in range(training_epochs):\n",
    "        for (x, y) in zip(train_X, train_Y):\n",
    "            sess.run(optimizer, feed_dict={X: x.reshape([1,1]), Y: y.reshape([1,1])})\n",
    "\n",
    "        c = sess.run(cost, feed_dict={X: train_X.reshape([int(data_count_train),1]), Y:train_Y.reshape([int(data_count_train),1])})     \n",
    "        loss_history.append(c)\n",
    "\n",
    "\n",
    "        # Display logs per epoch step\n",
    "        if epoch % display_step == 0:\n",
    "            print(\"Epoch:\", '%04d' % (epoch+1), \"cost=\", \"{:.9f}\".format(c))\n",
    "\n",
    "    print(\"Optimization Finished!\")\n",
    "    training_cost = sess.run(cost, feed_dict={X: train_X.reshape([int(datacount/2),1]), Y: train_Y.reshape([int(datacount/2),1])})\n",
    "    print(\"Training cost=\", training_cost, '\\n')\n",
    "    \n",
    "    return loss_history\n",
    "    "
   ]
  },
  {
   "cell_type": "code",
   "execution_count": 51,
   "metadata": {},
   "outputs": [
    {
     "name": "stdout",
     "output_type": "stream",
     "text": [
      "Epoch: 0001 cost= 0.396460056\n",
      "Epoch: 0051 cost= 0.044932947\n",
      "Epoch: 0101 cost= 0.009715630\n",
      "Epoch: 0151 cost= 0.002805076\n",
      "Epoch: 0201 cost= 0.001466432\n",
      "Epoch: 0251 cost= 0.001148779\n",
      "Epoch: 0301 cost= 0.001012120\n",
      "Epoch: 0351 cost= 0.000917512\n",
      "Epoch: 0401 cost= 0.000840088\n",
      "Epoch: 0451 cost= 0.000772535\n",
      "Epoch: 0501 cost= 0.000711109\n",
      "Epoch: 0551 cost= 0.000656351\n",
      "Epoch: 0601 cost= 0.000610686\n",
      "Epoch: 0651 cost= 0.000571710\n",
      "Epoch: 0701 cost= 0.000536838\n",
      "Epoch: 0751 cost= 0.000506303\n",
      "Epoch: 0801 cost= 0.000478472\n",
      "Epoch: 0851 cost= 0.000453880\n",
      "Epoch: 0901 cost= 0.000432524\n",
      "Epoch: 0951 cost= 0.000413925\n",
      "Optimization Finished!\n",
      "Training cost= 0.00039697773 \n",
      "\n"
     ]
    },
    {
     "data": {
      "image/png": "[encoded data removed]",
      "text/plain": [
       "<matplotlib.figure.Figure at 0xc260fd0>"
      ]
     },
     "metadata": {},
     "output_type": "display_data"
    }
   ],
   "source": [
    "training_epochs = 1000\n",
    "display_step = 50\n",
    "\n",
    "#refresh the session and initialize the weights\n",
    "init = tf.global_variables_initializer()\n",
    "sess = tf.Session()\n",
    "sess.run(init)\n",
    "\n",
    "#use the training function we created to train the model\n",
    "loss_history = trainingFunction(sess,optimizer,cost,train_X,train_Y,display_step,training_epochs)\n",
    "\n",
    "plt.plot(loss_history)\n",
    "plt.title('Loss')\n",
    "plt.show()\n"
   ]
  },
  {
   "cell_type": "code",
   "execution_count": 57,
   "metadata": {},
   "outputs": [
    {
     "data": {
      "text/plain": [
       "Text(0.5,1,'Testing predicted')"
      ]
     },
     "execution_count": 57,
     "metadata": {},
     "output_type": "execute_result"
    },
    {
     "data": {
      "image/png": "[encoded data removed]",
      "text/plain": [
       "<matplotlib.figure.Figure at 0xe60d438>"
      ]
     },
     "metadata": {},
     "output_type": "display_data"
    }
   ],
   "source": [
    "f, ((ax1, ax2),(ax3,ax4)) = plt.subplots(2, 2)\n",
    "\n",
    "y_res = sess.run(pred, feed_dict={X: train_X.reshape([int(datacount/2),1])})\n",
    "y_res_test = sess.run(pred, feed_dict={X: test_X.reshape([int(datacount/2),1])})\n",
    "\n",
    "ax1.scatter(train_X,train_Y)\n",
    "ax1.set_title('Training actual')\n",
    "ax2.scatter(train_X,y_res, color='r')\n",
    "ax2.set_title('Training predicted')\n",
    "\n",
    "ax3.scatter(test_X,test_Y)\n",
    "ax3.set_title('Testing actual')\n",
    "ax4.scatter(test_X,y_res_test, color='r')\n",
    "ax4.set_title('Testing predicted')\n"
   ]
  },
  {
   "cell_type": "code",
   "execution_count": 59,
   "metadata": {},
   "outputs": [
    {
     "name": "stdout",
     "output_type": "stream",
     "text": [
      "[[0.01682734]\n",
      " [0.03988433]\n",
      " [0.2329185 ]\n",
      " [0.0385139 ]\n",
      " [1.0893276 ]\n",
      " [1.1905015 ]\n",
      " [2.1263425 ]\n",
      " [5.4642086 ]]\n"
     ]
    }
   ],
   "source": [
    "my_values = np.asarray([0 , 0.12 , 0.5 , 0.111 , 1, 1.2 , 1.5 , 2])\n",
    "\n",
    "y_res = sess.run(pred, feed_dict={X: my_values.reshape([8,1])})\n",
    "\n",
    "print(y_res)"
   ]
  },
  {
   "cell_type": "code",
   "execution_count": null,
   "metadata": {},
   "outputs": [],
   "source": []
  }
 ],
 "metadata": {
  "kernelspec": {
   "display_name": "Python 3",
   "language": "python",
   "name": "python3"
  },
  "language_info": {
   "codemirror_mode": {
    "name": "ipython",
    "version": 3
   },
   "file_extension": ".py",
   "mimetype": "text/x-python",
   "name": "python",
   "nbconvert_exporter": "python",
   "pygments_lexer": "ipython3",
   "version": "3.6.4"
  }
 },
 "nbformat": 4,
 "nbformat_minor": 2
}
