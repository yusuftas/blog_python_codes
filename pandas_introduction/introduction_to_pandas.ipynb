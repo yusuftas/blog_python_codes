{
 "cells": [
  {
   "cell_type": "markdown",
   "metadata": {},
   "source": [
    "In this post, I will give a brief introduction to Pandas module of Python. Pandas is one of the most used modules of python in Data Science applications. \n"
   ]
  },
  {
   "cell_type": "code",
   "execution_count": 3,
   "metadata": {},
   "outputs": [],
   "source": [
    "import urllib\n",
    "\n",
    "suicide_csv = 'https://docs.google.com/spreadsheets/d/1AcXBk9Ww1m9ozN6NFAP0rMTHGxlBy9RcbivCiHNyN8E/pub?gid=0&output=CSV'\n",
    "\n",
    "\n",
    "local_suicide_csv = 'tb_suicide.csv'\n",
    "\n",
    "suicide_f = urllib.request.urlretrieve(suicide_csv, local_suicide_csv)"
   ]
  },
  {
   "cell_type": "code",
   "execution_count": null,
   "metadata": {},
   "outputs": [],
   "source": [
    "import pandas as pd\n",
    "\n",
    "suicides_df = pd.read_csv(suici, index_col = 0, thousands  = ',').T"
   ]
  },
  {
   "cell_type": "code",
   "execution_count": null,
   "metadata": {},
   "outputs": [],
   "source": []
  },
  {
   "cell_type": "code",
   "execution_count": null,
   "metadata": {},
   "outputs": [],
   "source": []
  },
  {
   "cell_type": "code",
   "execution_count": null,
   "metadata": {},
   "outputs": [],
   "source": []
  }
 ],
 "metadata": {
  "kernelspec": {
   "display_name": "Python 3",
   "language": "python",
   "name": "python3"
  },
  "language_info": {
   "codemirror_mode": {
    "name": "ipython",
    "version": 3
   },
   "file_extension": ".py",
   "mimetype": "text/x-python",
   "name": "python",
   "nbconvert_exporter": "python",
   "pygments_lexer": "ipython3",
   "version": "3.6.4"
  }
 },
 "nbformat": 4,
 "nbformat_minor": 2
}
